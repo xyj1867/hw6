{
 "cells": [
  {
   "cell_type": "code",
   "execution_count": 41,
   "metadata": {},
   "outputs": [
    {
     "name": "stdout",
     "output_type": "stream",
     "text": [
      "200\n"
     ]
    }
   ],
   "source": [
    "import json\n",
    "import requests\n",
    "from bs4 import BeautifulSoup\n",
    "from requests_oauthlib import OAuth1 \n",
    "import hw6_secrets_starter as secrets\n",
    "client_key = secrets.TWITTER_API_KEY\n",
    "client_secret = secrets.TWITTER_API_SECRET\n",
    "access_token = secrets.TWITTER_ACCESS_TOKEN \n",
    "access_token_secret = secrets.TWITTER_ACCESS_TOKEN_SECRET\n",
    "oauth = OAuth1(client_key, client_secret=client_secret, resource_owner_key=access_token, resource_owner_secret=access_token_secret)\n",
    "endpoint_url = 'https://api.twitter.com/1.1/search/tweets.json' \n",
    "hashtag = \"#MarchMadness2021\"\n",
    "params = {'q': hashtag, 'count': 11}\n",
    "response = requests.get(endpoint_url, params=params,auth=oauth) \n",
    "print (response.status_code)"
   ]
  },
  {
   "cell_type": "code",
   "execution_count": 42,
   "metadata": {},
   "outputs": [],
   "source": [
    "y = json.loads(response.text)"
   ]
  },
  {
   "cell_type": "code",
   "execution_count": 43,
   "metadata": {},
   "outputs": [
    {
     "data": {
      "text/plain": [
       "dict_keys(['statuses', 'search_metadata'])"
      ]
     },
     "execution_count": 43,
     "metadata": {},
     "output_type": "execute_result"
    }
   ],
   "source": [
    "y.keys()"
   ]
  },
  {
   "cell_type": "code",
   "execution_count": 48,
   "metadata": {},
   "outputs": [
    {
     "data": {
      "text/plain": [
       "[{'text': 'Syracuse', 'indices': [16, 25]},\n",
       " {'text': 'MarchMadness2021', 'indices': [26, 43]}]"
      ]
     },
     "execution_count": 48,
     "metadata": {},
     "output_type": "execute_result"
    }
   ],
   "source": [
    "y[\"statuses\"][0]['entities']['hashtags']"
   ]
  },
  {
   "cell_type": "code",
   "execution_count": 50,
   "metadata": {},
   "outputs": [
    {
     "data": {
      "text/plain": [
       "'Lets Go Cuse! 🍊 #Syracuse #MarchMadness2021'"
      ]
     },
     "execution_count": 50,
     "metadata": {},
     "output_type": "execute_result"
    }
   ],
   "source": [
    "y[\"statuses\"][0]['text']"
   ]
  },
  {
   "cell_type": "code",
   "execution_count": 55,
   "metadata": {},
   "outputs": [
    {
     "data": {
      "text/plain": [
       "'RT @tracywolfson: Sister Jean’s pregame prayer (or scouting report😂) was right on!\\n@RamblersMBB pulled off the upset over @IlliniMBB #March…'"
      ]
     },
     "execution_count": 55,
     "metadata": {},
     "output_type": "execute_result"
    }
   ],
   "source": [
    "y[\"statuses\"][1]['text'][70]"
   ]
  },
  {
   "cell_type": "code",
   "execution_count": 61,
   "metadata": {},
   "outputs": [
    {
     "data": {
      "text/plain": [
       "'😂'"
      ]
     },
     "execution_count": 61,
     "metadata": {},
     "output_type": "execute_result"
    }
   ],
   "source": [
    "y[\"statuses\"][1]['text'][66]"
   ]
  },
  {
   "cell_type": "code",
   "execution_count": null,
   "metadata": {},
   "outputs": [],
   "source": []
  }
 ],
 "metadata": {
  "kernelspec": {
   "display_name": "Python 3",
   "language": "python",
   "name": "python3"
  },
  "language_info": {
   "codemirror_mode": {
    "name": "ipython",
    "version": 3
   },
   "file_extension": ".py",
   "mimetype": "text/x-python",
   "name": "python",
   "nbconvert_exporter": "python",
   "pygments_lexer": "ipython3",
   "version": "3.8.5"
  }
 },
 "nbformat": 4,
 "nbformat_minor": 4
}
